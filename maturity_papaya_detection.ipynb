{
 "cells": [
  {
   "cell_type": "code",
   "execution_count": 1,
   "metadata": {},
   "outputs": [],
   "source": [
    "import pandas as pd\n",
    "import matplotlib.pyplot as plt\n",
    "import os\n",
    "import shutil"
   ]
  },
  {
   "cell_type": "code",
   "execution_count": 2,
   "metadata": {},
   "outputs": [
    {
     "data": {
      "text/html": [
       "<div>\n",
       "<style scoped>\n",
       "    .dataframe tbody tr th:only-of-type {\n",
       "        vertical-align: middle;\n",
       "    }\n",
       "\n",
       "    .dataframe tbody tr th {\n",
       "        vertical-align: top;\n",
       "    }\n",
       "\n",
       "    .dataframe thead th {\n",
       "        text-align: right;\n",
       "    }\n",
       "</style>\n",
       "<table border=\"1\" class=\"dataframe\">\n",
       "  <thead>\n",
       "    <tr style=\"text-align: right;\">\n",
       "      <th></th>\n",
       "      <th>filename</th>\n",
       "      <th>belum_matang</th>\n",
       "      <th>matang</th>\n",
       "      <th>setengah_matang</th>\n",
       "    </tr>\n",
       "  </thead>\n",
       "  <tbody>\n",
       "    <tr>\n",
       "      <th>0</th>\n",
       "      <td>papaya-whole-tropical-exotic-fruit-metro-fresh...</td>\n",
       "      <td>0</td>\n",
       "      <td>0</td>\n",
       "      <td>1</td>\n",
       "    </tr>\n",
       "    <tr>\n",
       "      <th>1</th>\n",
       "      <td>0897_jpg.rf.041335dbece6b1c5f21937ba049147d5.jpg</td>\n",
       "      <td>1</td>\n",
       "      <td>0</td>\n",
       "      <td>0</td>\n",
       "    </tr>\n",
       "    <tr>\n",
       "      <th>2</th>\n",
       "      <td>matang-302-_jpg.rf.09bf6cf4d9950f54507eaeba8b5...</td>\n",
       "      <td>0</td>\n",
       "      <td>1</td>\n",
       "      <td>0</td>\n",
       "    </tr>\n",
       "    <tr>\n",
       "      <th>3</th>\n",
       "      <td>mentah-441-_jpg.rf.0605bf46ddcdeb8036697bceb87...</td>\n",
       "      <td>1</td>\n",
       "      <td>0</td>\n",
       "      <td>0</td>\n",
       "    </tr>\n",
       "    <tr>\n",
       "      <th>4</th>\n",
       "      <td>0822_jpg.rf.0a30d7a2cf08399c36a8f046976510f1.jpg</td>\n",
       "      <td>1</td>\n",
       "      <td>0</td>\n",
       "      <td>0</td>\n",
       "    </tr>\n",
       "  </tbody>\n",
       "</table>\n",
       "</div>"
      ],
      "text/plain": [
       "                                            filename   belum_matang   matang  \\\n",
       "0  papaya-whole-tropical-exotic-fruit-metro-fresh...              0        0   \n",
       "1   0897_jpg.rf.041335dbece6b1c5f21937ba049147d5.jpg              1        0   \n",
       "2  matang-302-_jpg.rf.09bf6cf4d9950f54507eaeba8b5...              0        1   \n",
       "3  mentah-441-_jpg.rf.0605bf46ddcdeb8036697bceb87...              1        0   \n",
       "4   0822_jpg.rf.0a30d7a2cf08399c36a8f046976510f1.jpg              1        0   \n",
       "\n",
       "    setengah_matang  \n",
       "0                 1  \n",
       "1                 0  \n",
       "2                 0  \n",
       "3                 0  \n",
       "4                 0  "
      ]
     },
     "execution_count": 2,
     "metadata": {},
     "output_type": "execute_result"
    }
   ],
   "source": [
    "data = pd.read_csv('E:/Papaye_maturite/Papaya-maturity.v15i.multiclass/train/_classes.csv')\n",
    "data_valid = pd.read_csv('E:/Papaye_maturite/Papaya-maturity.v15i.multiclass/valid/_classes.csv')\n",
    "data_test = pd.read_csv('E:/Papaye_maturite/Papaya-maturity.v15i.multiclass/test/_classes.csv')\n",
    "data_test.head()"
   ]
  },
  {
   "cell_type": "code",
   "execution_count": 3,
   "metadata": {},
   "outputs": [
    {
     "data": {
      "text/plain": [
       "'source_dir = \"E:/Papaye_maturite/Papaya-maturity.v15i.multiclass/valid\"  # Dossier contenant les images\\ndest_dir = \"E:/Papaye_maturite/data_set\"  # Dossier où classer les images\\n\\n# Parcourir chaque ligne du fichier CSV\\nfor _, row in data_valid.iterrows():\\n    filename = row[\"filename\"]\\n    \\n    # Trouver la classe de l\\'image (colonne avec la valeur 1)\\n    class_name = None\\n    for col in data_valid.columns[1:]:\\n        if row[col] == 1:\\n            class_name = col\\n            break\\n    \\n    # Vérifier si une classe a été trouvée\\n    if class_name is None:\\n        print(f\"Aucune classe trouvée pour {filename}, image ignorée.\")\\n        continue\\n    \\n    # Définir les chemins\\n    source_path = os.path.join(source_dir, filename)\\n    class_dir = os.path.join(dest_dir, class_name)\\n    dest_path = os.path.join(class_dir, filename)\\n    \\n    # Vérifier si l\\'image existe avant de déplacer\\n    if os.path.exists(source_path):\\n        os.makedirs(class_dir, exist_ok=True)  # Créer le dossier si nécessaire\\n        shutil.move(source_path, dest_path)\\n        print(f\"Image {filename} déplacée vers {class_dir}\")\\n    else:\\n        print(f\"Image {filename} non trouvée dans {source_dir}\")'"
      ]
     },
     "execution_count": 3,
     "metadata": {},
     "output_type": "execute_result"
    }
   ],
   "source": [
    "# Extraire les images et les repartir en classe dans des dossiers\n",
    "\"\"\"source_dir = \"E:/Papaye_maturite/Papaya-maturity.v15i.multiclass/valid\"  # Dossier contenant les images\n",
    "dest_dir = \"E:/Papaye_maturite/data_set\"  # Dossier où classer les images\n",
    "\n",
    "# Parcourir chaque ligne du fichier CSV\n",
    "for _, row in data_valid.iterrows():\n",
    "    filename = row[\"filename\"]\n",
    "    \n",
    "    # Trouver la classe de l'image (colonne avec la valeur 1)\n",
    "    class_name = None\n",
    "    for col in data_valid.columns[1:]:\n",
    "        if row[col] == 1:\n",
    "            class_name = col\n",
    "            break\n",
    "    \n",
    "    # Vérifier si une classe a été trouvée\n",
    "    if class_name is None:\n",
    "        print(f\"Aucune classe trouvée pour {filename}, image ignorée.\")\n",
    "        continue\n",
    "    \n",
    "    # Définir les chemins\n",
    "    source_path = os.path.join(source_dir, filename)\n",
    "    class_dir = os.path.join(dest_dir, class_name)\n",
    "    dest_path = os.path.join(class_dir, filename)\n",
    "    \n",
    "    # Vérifier si l'image existe avant de déplacer\n",
    "    if os.path.exists(source_path):\n",
    "        os.makedirs(class_dir, exist_ok=True)  # Créer le dossier si nécessaire\n",
    "        shutil.move(source_path, dest_path)\n",
    "        print(f\"Image {filename} déplacée vers {class_dir}\")\n",
    "    else:\n",
    "        print(f\"Image {filename} non trouvée dans {source_dir}\")\"\"\"\n"
   ]
  },
  {
   "cell_type": "code",
   "execution_count": 4,
   "metadata": {},
   "outputs": [
    {
     "data": {
      "text/plain": [
       "'source_dir = \"E:/Papaye_maturite/Papaya-maturity.v15i.multiclass/test\"  # Dossier contenant les images\\ndest_dir = \"E:/Papaye_maturite/test_set\"  # Dossier où classer les images\\n\\n# Parcourir chaque ligne du fichier CSV\\nfor _, row in data_test.iterrows():\\n    filename = row[\"filename\"]\\n    \\n    # Trouver la classe de l\\'image (colonne avec la valeur 1)\\n    class_name = None\\n    for col in data_test.columns[1:]:\\n        if row[col] == 1:\\n            class_name = col\\n            break\\n    \\n    # Vérifier si une classe a été trouvée\\n    if class_name is None:\\n        print(f\"Aucune classe trouvée pour {filename}, image ignorée.\")\\n        continue\\n    \\n    # Définir les chemins\\n    source_path = os.path.join(source_dir, filename)\\n    class_dir = os.path.join(dest_dir, class_name)\\n    dest_path = os.path.join(class_dir, filename)\\n    \\n    # Vérifier si l\\'image existe avant de déplacer\\n    if os.path.exists(source_path):\\n        os.makedirs(class_dir, exist_ok=True)  # Créer le dossier si nécessaire\\n        shutil.move(source_path, dest_path)\\n        print(f\"Image {filename} déplacée vers {class_dir}\")\\n    else:\\n        print(f\"Image {filename} non trouvée dans {source_dir}\")'"
      ]
     },
     "execution_count": 4,
     "metadata": {},
     "output_type": "execute_result"
    }
   ],
   "source": [
    "\"\"\"source_dir = \"E:/Papaye_maturite/Papaya-maturity.v15i.multiclass/test\"  # Dossier contenant les images\n",
    "dest_dir = \"E:/Papaye_maturite/test_set\"  # Dossier où classer les images\n",
    "\n",
    "# Parcourir chaque ligne du fichier CSV\n",
    "for _, row in data_test.iterrows():\n",
    "    filename = row[\"filename\"]\n",
    "    \n",
    "    # Trouver la classe de l'image (colonne avec la valeur 1)\n",
    "    class_name = None\n",
    "    for col in data_test.columns[1:]:\n",
    "        if row[col] == 1:\n",
    "            class_name = col\n",
    "            break\n",
    "    \n",
    "    # Vérifier si une classe a été trouvée\n",
    "    if class_name is None:\n",
    "        print(f\"Aucune classe trouvée pour {filename}, image ignorée.\")\n",
    "        continue\n",
    "    \n",
    "    # Définir les chemins\n",
    "    source_path = os.path.join(source_dir, filename)\n",
    "    class_dir = os.path.join(dest_dir, class_name)\n",
    "    dest_path = os.path.join(class_dir, filename)\n",
    "    \n",
    "    # Vérifier si l'image existe avant de déplacer\n",
    "    if os.path.exists(source_path):\n",
    "        os.makedirs(class_dir, exist_ok=True)  # Créer le dossier si nécessaire\n",
    "        shutil.move(source_path, dest_path)\n",
    "        print(f\"Image {filename} déplacée vers {class_dir}\")\n",
    "    else:\n",
    "        print(f\"Image {filename} non trouvée dans {source_dir}\")\"\"\""
   ]
  },
  {
   "cell_type": "code",
   "execution_count": 5,
   "metadata": {},
   "outputs": [
    {
     "name": "stdout",
     "output_type": "stream",
     "text": [
      "                                                images           classes\n",
      "0    E:/Papaye_maturite/test_set\\ belum_matang\\0499...      belum_matang\n",
      "1    E:/Papaye_maturite/test_set\\ belum_matang\\0501...      belum_matang\n",
      "2    E:/Papaye_maturite/test_set\\ belum_matang\\0522...      belum_matang\n",
      "3    E:/Papaye_maturite/test_set\\ belum_matang\\0523...      belum_matang\n",
      "4    E:/Papaye_maturite/test_set\\ belum_matang\\0558...      belum_matang\n",
      "..                                                 ...               ...\n",
      "307  E:/Papaye_maturite/test_set\\ setengah_matang\\p...   setengah_matang\n",
      "308  E:/Papaye_maturite/test_set\\ setengah_matang\\p...   setengah_matang\n",
      "309  E:/Papaye_maturite/test_set\\ setengah_matang\\p...   setengah_matang\n",
      "310  E:/Papaye_maturite/test_set\\ setengah_matang\\p...   setengah_matang\n",
      "311  E:/Papaye_maturite/test_set\\ setengah_matang\\p...   setengah_matang\n",
      "\n",
      "[312 rows x 2 columns]\n"
     ]
    }
   ],
   "source": [
    "# Chemin du dossier principal  \n",
    "dossier_principal = 'E:/Papaye_maturite/test_set'  # Remplacez par le chemin de votre dossier  \n",
    "\n",
    "# Initialiser une liste pour stocker les données  \n",
    "donnees = []  \n",
    "\n",
    "# Itérer sur les sous-dossiers  \n",
    "for classe in os.listdir(dossier_principal):  \n",
    "    chemin_classe = os.path.join(dossier_principal, classe)  \n",
    "    if os.path.isdir(chemin_classe):  # Vérifiez si c'est un dossier  \n",
    "        for image in os.listdir(chemin_classe):  \n",
    "            chemin_image = os.path.join(chemin_classe, image)  \n",
    "            donnees.append((chemin_image, classe))  \n",
    "\n",
    "# Créer un DataFrame  \n",
    "test_set = pd.DataFrame(donnees, columns=['images', 'classes'])  \n",
    "\n",
    "print(test_set)"
   ]
  },
  {
   "cell_type": "code",
   "execution_count": 6,
   "metadata": {},
   "outputs": [
    {
     "data": {
      "text/html": [
       "<div>\n",
       "<style scoped>\n",
       "    .dataframe tbody tr th:only-of-type {\n",
       "        vertical-align: middle;\n",
       "    }\n",
       "\n",
       "    .dataframe tbody tr th {\n",
       "        vertical-align: top;\n",
       "    }\n",
       "\n",
       "    .dataframe thead th {\n",
       "        text-align: right;\n",
       "    }\n",
       "</style>\n",
       "<table border=\"1\" class=\"dataframe\">\n",
       "  <thead>\n",
       "    <tr style=\"text-align: right;\">\n",
       "      <th></th>\n",
       "      <th>images</th>\n",
       "      <th>classes</th>\n",
       "    </tr>\n",
       "  </thead>\n",
       "  <tbody>\n",
       "    <tr>\n",
       "      <th>0</th>\n",
       "      <td>E:/Papaye_maturite/test_set\\ belum_matang\\0499...</td>\n",
       "      <td>belum_matang</td>\n",
       "    </tr>\n",
       "    <tr>\n",
       "      <th>1</th>\n",
       "      <td>E:/Papaye_maturite/test_set\\ belum_matang\\0501...</td>\n",
       "      <td>belum_matang</td>\n",
       "    </tr>\n",
       "    <tr>\n",
       "      <th>2</th>\n",
       "      <td>E:/Papaye_maturite/test_set\\ belum_matang\\0522...</td>\n",
       "      <td>belum_matang</td>\n",
       "    </tr>\n",
       "    <tr>\n",
       "      <th>3</th>\n",
       "      <td>E:/Papaye_maturite/test_set\\ belum_matang\\0523...</td>\n",
       "      <td>belum_matang</td>\n",
       "    </tr>\n",
       "    <tr>\n",
       "      <th>4</th>\n",
       "      <td>E:/Papaye_maturite/test_set\\ belum_matang\\0558...</td>\n",
       "      <td>belum_matang</td>\n",
       "    </tr>\n",
       "  </tbody>\n",
       "</table>\n",
       "</div>"
      ],
      "text/plain": [
       "                                              images        classes\n",
       "0  E:/Papaye_maturite/test_set\\ belum_matang\\0499...   belum_matang\n",
       "1  E:/Papaye_maturite/test_set\\ belum_matang\\0501...   belum_matang\n",
       "2  E:/Papaye_maturite/test_set\\ belum_matang\\0522...   belum_matang\n",
       "3  E:/Papaye_maturite/test_set\\ belum_matang\\0523...   belum_matang\n",
       "4  E:/Papaye_maturite/test_set\\ belum_matang\\0558...   belum_matang"
      ]
     },
     "execution_count": 6,
     "metadata": {},
     "output_type": "execute_result"
    }
   ],
   "source": [
    "test_set.head()"
   ]
  },
  {
   "cell_type": "code",
   "execution_count": 7,
   "metadata": {},
   "outputs": [
    {
     "name": "stdout",
     "output_type": "stream",
     "text": [
      "                                                 images           classes\n",
      "0     E:/Papaye_maturite/data_set\\ belum_matang\\0497...      belum_matang\n",
      "1     E:/Papaye_maturite/data_set\\ belum_matang\\0497...      belum_matang\n",
      "2     E:/Papaye_maturite/data_set\\ belum_matang\\0498...      belum_matang\n",
      "3     E:/Papaye_maturite/data_set\\ belum_matang\\0498...      belum_matang\n",
      "4     E:/Papaye_maturite/data_set\\ belum_matang\\0500...      belum_matang\n",
      "...                                                 ...               ...\n",
      "5319  E:/Papaye_maturite/data_set\\ setengah_matang\\W...   setengah_matang\n",
      "5320  E:/Papaye_maturite/data_set\\ setengah_matang\\W...   setengah_matang\n",
      "5321  E:/Papaye_maturite/data_set\\ setengah_matang\\W...   setengah_matang\n",
      "5322  E:/Papaye_maturite/data_set\\ setengah_matang\\W...   setengah_matang\n",
      "5323  E:/Papaye_maturite/data_set\\ setengah_matang\\W...   setengah_matang\n",
      "\n",
      "[5324 rows x 2 columns]\n"
     ]
    }
   ],
   "source": [
    "# Chemin du dossier principal  \n",
    "dossier_principal = 'E:/Papaye_maturite/data_set'  # Remplacez par le chemin de votre dossier  \n",
    "\n",
    "# Initialiser une liste pour stocker les données  \n",
    "donnees = []  \n",
    "\n",
    "# Itérer sur les sous-dossiers  \n",
    "for classe in os.listdir(dossier_principal):  \n",
    "    chemin_classe = os.path.join(dossier_principal, classe)  \n",
    "    if os.path.isdir(chemin_classe):  # Vérifiez si c'est un dossier  \n",
    "        for image in os.listdir(chemin_classe):  \n",
    "            chemin_image = os.path.join(chemin_classe, image)  \n",
    "            donnees.append((chemin_image, classe))  \n",
    "\n",
    "# Créer un DataFrame  \n",
    "set = pd.DataFrame(donnees, columns=['images', 'classes'])  \n",
    "\n",
    "print(set)"
   ]
  },
  {
   "cell_type": "code",
   "execution_count": 8,
   "metadata": {},
   "outputs": [
    {
     "data": {
      "text/html": [
       "<div>\n",
       "<style scoped>\n",
       "    .dataframe tbody tr th:only-of-type {\n",
       "        vertical-align: middle;\n",
       "    }\n",
       "\n",
       "    .dataframe tbody tr th {\n",
       "        vertical-align: top;\n",
       "    }\n",
       "\n",
       "    .dataframe thead th {\n",
       "        text-align: right;\n",
       "    }\n",
       "</style>\n",
       "<table border=\"1\" class=\"dataframe\">\n",
       "  <thead>\n",
       "    <tr style=\"text-align: right;\">\n",
       "      <th></th>\n",
       "      <th>images</th>\n",
       "      <th>classes</th>\n",
       "    </tr>\n",
       "  </thead>\n",
       "  <tbody>\n",
       "    <tr>\n",
       "      <th>0</th>\n",
       "      <td>E:/Papaye_maturite/data_set\\ belum_matang\\0497...</td>\n",
       "      <td>belum_matang</td>\n",
       "    </tr>\n",
       "    <tr>\n",
       "      <th>1</th>\n",
       "      <td>E:/Papaye_maturite/data_set\\ belum_matang\\0497...</td>\n",
       "      <td>belum_matang</td>\n",
       "    </tr>\n",
       "    <tr>\n",
       "      <th>2</th>\n",
       "      <td>E:/Papaye_maturite/data_set\\ belum_matang\\0498...</td>\n",
       "      <td>belum_matang</td>\n",
       "    </tr>\n",
       "    <tr>\n",
       "      <th>3</th>\n",
       "      <td>E:/Papaye_maturite/data_set\\ belum_matang\\0498...</td>\n",
       "      <td>belum_matang</td>\n",
       "    </tr>\n",
       "    <tr>\n",
       "      <th>4</th>\n",
       "      <td>E:/Papaye_maturite/data_set\\ belum_matang\\0500...</td>\n",
       "      <td>belum_matang</td>\n",
       "    </tr>\n",
       "  </tbody>\n",
       "</table>\n",
       "</div>"
      ],
      "text/plain": [
       "                                              images        classes\n",
       "0  E:/Papaye_maturite/data_set\\ belum_matang\\0497...   belum_matang\n",
       "1  E:/Papaye_maturite/data_set\\ belum_matang\\0497...   belum_matang\n",
       "2  E:/Papaye_maturite/data_set\\ belum_matang\\0498...   belum_matang\n",
       "3  E:/Papaye_maturite/data_set\\ belum_matang\\0498...   belum_matang\n",
       "4  E:/Papaye_maturite/data_set\\ belum_matang\\0500...   belum_matang"
      ]
     },
     "execution_count": 8,
     "metadata": {},
     "output_type": "execute_result"
    }
   ],
   "source": [
    "set.head()"
   ]
  },
  {
   "cell_type": "code",
   "execution_count": 9,
   "metadata": {},
   "outputs": [
    {
     "name": "stdout",
     "output_type": "stream",
     "text": [
      "<class 'pandas.core.frame.DataFrame'>\n",
      "RangeIndex: 5324 entries, 0 to 5323\n",
      "Data columns (total 2 columns):\n",
      " #   Column   Non-Null Count  Dtype \n",
      "---  ------   --------------  ----- \n",
      " 0   images   5324 non-null   object\n",
      " 1   classes  5324 non-null   object\n",
      "dtypes: object(2)\n",
      "memory usage: 83.3+ KB\n"
     ]
    }
   ],
   "source": [
    "set.info()"
   ]
  },
  {
   "cell_type": "code",
   "execution_count": 10,
   "metadata": {},
   "outputs": [
    {
     "data": {
      "text/plain": [
       "<Axes: xlabel='count', ylabel='classes'>"
      ]
     },
     "execution_count": 10,
     "metadata": {},
     "output_type": "execute_result"
    },
    {
     "data": {
      "image/png": "[encoded data removed]",
      "text/plain": [
       "<Figure size 640x480 with 1 Axes>"
      ]
     },
     "metadata": {},
     "output_type": "display_data"
    }
   ],
   "source": [
    "import seaborn as sns\n",
    "\n",
    "sns.countplot(set['classes'])"
   ]
  },
  {
   "cell_type": "code",
   "execution_count": 11,
   "metadata": {},
   "outputs": [],
   "source": [
    "import tensorflow as tf\n",
    "from tensorflow.keras.preprocessing.image import ImageDataGenerator\n",
    "\n",
    "datagen = ImageDataGenerator(\n",
    "    rescale=1.0/255.0,\n",
    "    rotation_range=15,\n",
    "    width_shift_range=0.1,\n",
    "    height_shift_range=0.1,\n",
    "    shear_range=0.1,\n",
    "    zoom_range=0.1,\n",
    "    horizontal_flip=True,\n",
    "    #validation_split=0.2 # 20% pour les donnees de validation\n",
    ")"
   ]
  },
  {
   "cell_type": "code",
   "execution_count": 12,
   "metadata": {},
   "outputs": [
    {
     "name": "stdout",
     "output_type": "stream",
     "text": [
      "\n",
      "=== Fold 1 / 3 ===\n",
      "Found 3549 validated image filenames belonging to 3 classes.\n",
      "Found 1775 validated image filenames belonging to 3 classes.\n"
     ]
    },
    {
     "name": "stderr",
     "output_type": "stream",
     "text": [
      "c:\\Users\\pc\\AppData\\Local\\Programs\\Python\\Python312\\Lib\\site-packages\\keras\\src\\layers\\convolutional\\base_conv.py:99: UserWarning: Do not pass an `input_shape`/`input_dim` argument to a layer. When using Sequential models, prefer using an `Input(shape)` object as the first layer in the model instead.\n",
      "  super().__init__(\n"
     ]
    },
    {
     "name": "stdout",
     "output_type": "stream",
     "text": [
      "Epoch 1/15\n"
     ]
    },
    {
     "name": "stderr",
     "output_type": "stream",
     "text": [
      "c:\\Users\\pc\\AppData\\Local\\Programs\\Python\\Python312\\Lib\\site-packages\\keras\\src\\trainers\\data_adapters\\py_dataset_adapter.py:122: UserWarning: Your `PyDataset` class should call `super().__init__(**kwargs)` in its constructor. `**kwargs` can include `workers`, `use_multiprocessing`, `max_queue_size`. Do not pass these arguments to `fit()`, as they will be ignored.\n",
      "  self._warn_if_super_not_called()\n"
     ]
    },
    {
     "name": "stdout",
     "output_type": "stream",
     "text": [
      "\u001b[1m111/111\u001b[0m \u001b[32m━━━━━━━━━━━━━━━━━━━━\u001b[0m\u001b[37m\u001b[0m \u001b[1m160s\u001b[0m 1s/step - accuracy: 0.6074 - loss: 0.9055 - precision: 0.6781 - val_accuracy: 0.7256 - val_loss: 0.6831 - val_precision: 0.7645\n",
      "Epoch 2/15\n",
      "\u001b[1m111/111\u001b[0m \u001b[32m━━━━━━━━━━━━━━━━━━━━\u001b[0m\u001b[37m\u001b[0m \u001b[1m34s\u001b[0m 297ms/step - accuracy: 0.7208 - loss: 0.6844 - precision: 0.7629 - val_accuracy: 0.7256 - val_loss: 0.7123 - val_precision: 0.7503\n",
      "Epoch 3/15\n",
      "\u001b[1m111/111\u001b[0m \u001b[32m━━━━━━━━━━━━━━━━━━━━\u001b[0m\u001b[37m\u001b[0m \u001b[1m34s\u001b[0m 294ms/step - accuracy: 0.7554 - loss: 0.6213 - precision: 0.7797 - val_accuracy: 0.7301 - val_loss: 0.6660 - val_precision: 0.7520\n",
      "Epoch 4/15\n",
      "\u001b[1m111/111\u001b[0m \u001b[32m━━━━━━━━━━━━━━━━━━━━\u001b[0m\u001b[37m\u001b[0m \u001b[1m34s\u001b[0m 296ms/step - accuracy: 0.7718 - loss: 0.5751 - precision: 0.8000 - val_accuracy: 0.8000 - val_loss: 0.5575 - val_precision: 0.8212\n",
      "Epoch 5/15\n",
      "\u001b[1m111/111\u001b[0m \u001b[32m━━━━━━━━━━━━━━━━━━━━\u001b[0m\u001b[37m\u001b[0m \u001b[1m35s\u001b[0m 301ms/step - accuracy: 0.7946 - loss: 0.5329 - precision: 0.8103 - val_accuracy: 0.7944 - val_loss: 0.5489 - val_precision: 0.8094\n",
      "Epoch 6/15\n",
      "\u001b[1m111/111\u001b[0m \u001b[32m━━━━━━━━━━━━━━━━━━━━\u001b[0m\u001b[37m\u001b[0m \u001b[1m35s\u001b[0m 305ms/step - accuracy: 0.7899 - loss: 0.5527 - precision: 0.8121 - val_accuracy: 0.7983 - val_loss: 0.5403 - val_precision: 0.8146\n",
      "Epoch 7/15\n",
      "\u001b[1m111/111\u001b[0m \u001b[32m━━━━━━━━━━━━━━━━━━━━\u001b[0m\u001b[37m\u001b[0m \u001b[1m35s\u001b[0m 303ms/step - accuracy: 0.8099 - loss: 0.5166 - precision: 0.8245 - val_accuracy: 0.8146 - val_loss: 0.5030 - val_precision: 0.8265\n",
      "Epoch 8/15\n",
      "\u001b[1m111/111\u001b[0m \u001b[32m━━━━━━━━━━━━━━━━━━━━\u001b[0m\u001b[37m\u001b[0m \u001b[1m35s\u001b[0m 301ms/step - accuracy: 0.8020 - loss: 0.5106 - precision: 0.8282 - val_accuracy: 0.8180 - val_loss: 0.4819 - val_precision: 0.8436\n",
      "Epoch 9/15\n",
      "\u001b[1m111/111\u001b[0m \u001b[32m━━━━━━━━━━━━━━━━━━━━\u001b[0m\u001b[37m\u001b[0m \u001b[1m35s\u001b[0m 304ms/step - accuracy: 0.8076 - loss: 0.5019 - precision: 0.8302 - val_accuracy: 0.8073 - val_loss: 0.5082 - val_precision: 0.8190\n",
      "Epoch 10/15\n",
      "\u001b[1m111/111\u001b[0m \u001b[32m━━━━━━━━━━━━━━━━━━━━\u001b[0m\u001b[37m\u001b[0m \u001b[1m35s\u001b[0m 298ms/step - accuracy: 0.8119 - loss: 0.4773 - precision: 0.8278 - val_accuracy: 0.8231 - val_loss: 0.4726 - val_precision: 0.8418\n",
      "Epoch 11/15\n",
      "\u001b[1m111/111\u001b[0m \u001b[32m━━━━━━━━━━━━━━━━━━━━\u001b[0m\u001b[37m\u001b[0m \u001b[1m34s\u001b[0m 298ms/step - accuracy: 0.8248 - loss: 0.4574 - precision: 0.8394 - val_accuracy: 0.8389 - val_loss: 0.4422 - val_precision: 0.8589\n",
      "Epoch 12/15\n",
      "\u001b[1m111/111\u001b[0m \u001b[32m━━━━━━━━━━━━━━━━━━━━\u001b[0m\u001b[37m\u001b[0m \u001b[1m35s\u001b[0m 301ms/step - accuracy: 0.8247 - loss: 0.4418 - precision: 0.8451 - val_accuracy: 0.8445 - val_loss: 0.4345 - val_precision: 0.8586\n",
      "Epoch 13/15\n",
      "\u001b[1m111/111\u001b[0m \u001b[32m━━━━━━━━━━━━━━━━━━━━\u001b[0m\u001b[37m\u001b[0m \u001b[1m35s\u001b[0m 302ms/step - accuracy: 0.8403 - loss: 0.4271 - precision: 0.8500 - val_accuracy: 0.8282 - val_loss: 0.4555 - val_precision: 0.8439\n",
      "Epoch 14/15\n",
      "\u001b[1m111/111\u001b[0m \u001b[32m━━━━━━━━━━━━━━━━━━━━\u001b[0m\u001b[37m\u001b[0m \u001b[1m35s\u001b[0m 302ms/step - accuracy: 0.8289 - loss: 0.4414 - precision: 0.8488 - val_accuracy: 0.8552 - val_loss: 0.4076 - val_precision: 0.8746\n",
      "Epoch 15/15\n",
      "\u001b[1m111/111\u001b[0m \u001b[32m━━━━━━━━━━━━━━━━━━━━\u001b[0m\u001b[37m\u001b[0m \u001b[1m34s\u001b[0m 299ms/step - accuracy: 0.8219 - loss: 0.4552 - precision: 0.8448 - val_accuracy: 0.8423 - val_loss: 0.4222 - val_precision: 0.8627\n",
      "\u001b[1m56/56\u001b[0m \u001b[32m━━━━━━━━━━━━━━━━━━━━\u001b[0m\u001b[37m\u001b[0m \u001b[1m12s\u001b[0m 207ms/step - accuracy: 0.9084 - loss: 0.3336 - precision: 0.9220\n",
      "\n",
      "=== Fold 2 / 3 ===\n",
      "Found 3549 validated image filenames belonging to 3 classes.\n",
      "Found 1775 validated image filenames belonging to 3 classes.\n"
     ]
    },
    {
     "name": "stderr",
     "output_type": "stream",
     "text": [
      "c:\\Users\\pc\\AppData\\Local\\Programs\\Python\\Python312\\Lib\\site-packages\\keras\\src\\layers\\convolutional\\base_conv.py:99: UserWarning: Do not pass an `input_shape`/`input_dim` argument to a layer. When using Sequential models, prefer using an `Input(shape)` object as the first layer in the model instead.\n",
      "  super().__init__(\n"
     ]
    },
    {
     "name": "stdout",
     "output_type": "stream",
     "text": [
      "Epoch 1/15\n"
     ]
    },
    {
     "name": "stderr",
     "output_type": "stream",
     "text": [
      "c:\\Users\\pc\\AppData\\Local\\Programs\\Python\\Python312\\Lib\\site-packages\\keras\\src\\trainers\\data_adapters\\py_dataset_adapter.py:122: UserWarning: Your `PyDataset` class should call `super().__init__(**kwargs)` in its constructor. `**kwargs` can include `workers`, `use_multiprocessing`, `max_queue_size`. Do not pass these arguments to `fit()`, as they will be ignored.\n",
      "  self._warn_if_super_not_called()\n"
     ]
    },
    {
     "name": "stdout",
     "output_type": "stream",
     "text": [
      "\u001b[1m111/111\u001b[0m \u001b[32m━━━━━━━━━━━━━━━━━━━━\u001b[0m\u001b[37m\u001b[0m \u001b[1m38s\u001b[0m 307ms/step - accuracy: 0.6015 - loss: 0.9038 - precision: 0.8250 - val_accuracy: 0.6885 - val_loss: 0.7428 - val_precision: 0.7260\n",
      "Epoch 2/15\n",
      "\u001b[1m111/111\u001b[0m \u001b[32m━━━━━━━━━━━━━━━━━━━━\u001b[0m\u001b[37m\u001b[0m \u001b[1m35s\u001b[0m 303ms/step - accuracy: 0.7517 - loss: 0.6277 - precision: 0.7854 - val_accuracy: 0.7735 - val_loss: 0.6129 - val_precision: 0.7932\n",
      "Epoch 3/15\n",
      "\u001b[1m111/111\u001b[0m \u001b[32m━━━━━━━━━━━━━━━━━━━━\u001b[0m\u001b[37m\u001b[0m \u001b[1m35s\u001b[0m 300ms/step - accuracy: 0.7815 - loss: 0.5898 - precision: 0.8050 - val_accuracy: 0.7628 - val_loss: 0.6119 - val_precision: 0.7772\n",
      "Epoch 4/15\n",
      "\u001b[1m111/111\u001b[0m \u001b[32m━━━━━━━━━━━━━━━━━━━━\u001b[0m\u001b[37m\u001b[0m \u001b[1m35s\u001b[0m 300ms/step - accuracy: 0.7763 - loss: 0.5898 - precision: 0.7957 - val_accuracy: 0.7718 - val_loss: 0.6054 - val_precision: 0.7995\n",
      "Epoch 5/15\n",
      "\u001b[1m111/111\u001b[0m \u001b[32m━━━━━━━━━━━━━━━━━━━━\u001b[0m\u001b[37m\u001b[0m \u001b[1m34s\u001b[0m 295ms/step - accuracy: 0.7857 - loss: 0.5528 - precision: 0.8074 - val_accuracy: 0.7780 - val_loss: 0.5744 - val_precision: 0.7913\n",
      "Epoch 6/15\n",
      "\u001b[1m111/111\u001b[0m \u001b[32m━━━━━━━━━━━━━━━━━━━━\u001b[0m\u001b[37m\u001b[0m \u001b[1m35s\u001b[0m 298ms/step - accuracy: 0.8123 - loss: 0.5012 - precision: 0.8258 - val_accuracy: 0.8073 - val_loss: 0.5215 - val_precision: 0.8133\n",
      "Epoch 7/15\n",
      "\u001b[1m111/111\u001b[0m \u001b[32m━━━━━━━━━━━━━━━━━━━━\u001b[0m\u001b[37m\u001b[0m \u001b[1m36s\u001b[0m 314ms/step - accuracy: 0.8077 - loss: 0.4934 - precision: 0.8200 - val_accuracy: 0.8068 - val_loss: 0.5154 - val_precision: 0.8204\n",
      "Epoch 8/15\n",
      "\u001b[1m111/111\u001b[0m \u001b[32m━━━━━━━━━━━━━━━━━━━━\u001b[0m\u001b[37m\u001b[0m \u001b[1m31s\u001b[0m 269ms/step - accuracy: 0.8360 - loss: 0.4492 - precision: 0.8532 - val_accuracy: 0.7938 - val_loss: 0.5126 - val_precision: 0.8070\n",
      "Epoch 9/15\n",
      "\u001b[1m111/111\u001b[0m \u001b[32m━━━━━━━━━━━━━━━━━━━━\u001b[0m\u001b[37m\u001b[0m \u001b[1m32s\u001b[0m 282ms/step - accuracy: 0.8176 - loss: 0.4597 - precision: 0.8390 - val_accuracy: 0.8135 - val_loss: 0.5142 - val_precision: 0.8219\n",
      "Epoch 10/15\n",
      "\u001b[1m111/111\u001b[0m \u001b[32m━━━━━━━━━━━━━━━━━━━━\u001b[0m\u001b[37m\u001b[0m \u001b[1m34s\u001b[0m 292ms/step - accuracy: 0.8342 - loss: 0.4357 - precision: 0.8477 - val_accuracy: 0.8282 - val_loss: 0.4573 - val_precision: 0.8478\n",
      "Epoch 11/15\n",
      "\u001b[1m111/111\u001b[0m \u001b[32m━━━━━━━━━━━━━━━━━━━━\u001b[0m\u001b[37m\u001b[0m \u001b[1m34s\u001b[0m 293ms/step - accuracy: 0.8400 - loss: 0.4231 - precision: 0.8547 - val_accuracy: 0.8220 - val_loss: 0.4745 - val_precision: 0.8448\n",
      "Epoch 12/15\n",
      "\u001b[1m111/111\u001b[0m \u001b[32m━━━━━━━━━━━━━━━━━━━━\u001b[0m\u001b[37m\u001b[0m \u001b[1m34s\u001b[0m 293ms/step - accuracy: 0.8381 - loss: 0.4242 - precision: 0.8563 - val_accuracy: 0.8225 - val_loss: 0.4755 - val_precision: 0.8369\n",
      "Epoch 13/15\n",
      "\u001b[1m111/111\u001b[0m \u001b[32m━━━━━━━━━━━━━━━━━━━━\u001b[0m\u001b[37m\u001b[0m \u001b[1m34s\u001b[0m 293ms/step - accuracy: 0.8335 - loss: 0.4176 - precision: 0.8597 - val_accuracy: 0.8113 - val_loss: 0.5231 - val_precision: 0.8483\n",
      "Epoch 14/15\n",
      "\u001b[1m111/111\u001b[0m \u001b[32m━━━━━━━━━━━━━━━━━━━━\u001b[0m\u001b[37m\u001b[0m \u001b[1m34s\u001b[0m 291ms/step - accuracy: 0.8392 - loss: 0.4238 - precision: 0.8599 - val_accuracy: 0.8321 - val_loss: 0.4582 - val_precision: 0.8463\n",
      "Epoch 15/15\n",
      "\u001b[1m111/111\u001b[0m \u001b[32m━━━━━━━━━━━━━━━━━━━━\u001b[0m\u001b[37m\u001b[0m \u001b[1m34s\u001b[0m 291ms/step - accuracy: 0.8428 - loss: 0.4065 - precision: 0.8598 - val_accuracy: 0.8270 - val_loss: 0.4418 - val_precision: 0.8514\n",
      "\u001b[1m56/56\u001b[0m \u001b[32m━━━━━━━━━━━━━━━━━━━━\u001b[0m\u001b[37m\u001b[0m \u001b[1m11s\u001b[0m 201ms/step - accuracy: 0.9058 - loss: 0.2987 - precision: 0.9282\n",
      "\n",
      "=== Fold 3 / 3 ===\n",
      "Found 3550 validated image filenames belonging to 3 classes.\n",
      "Found 1774 validated image filenames belonging to 3 classes.\n"
     ]
    },
    {
     "name": "stderr",
     "output_type": "stream",
     "text": [
      "c:\\Users\\pc\\AppData\\Local\\Programs\\Python\\Python312\\Lib\\site-packages\\keras\\src\\layers\\convolutional\\base_conv.py:99: UserWarning: Do not pass an `input_shape`/`input_dim` argument to a layer. When using Sequential models, prefer using an `Input(shape)` object as the first layer in the model instead.\n",
      "  super().__init__(\n"
     ]
    },
    {
     "name": "stdout",
     "output_type": "stream",
     "text": [
      "Epoch 1/15\n"
     ]
    },
    {
     "name": "stderr",
     "output_type": "stream",
     "text": [
      "c:\\Users\\pc\\AppData\\Local\\Programs\\Python\\Python312\\Lib\\site-packages\\keras\\src\\trainers\\data_adapters\\py_dataset_adapter.py:122: UserWarning: Your `PyDataset` class should call `super().__init__(**kwargs)` in its constructor. `**kwargs` can include `workers`, `use_multiprocessing`, `max_queue_size`. Do not pass these arguments to `fit()`, as they will be ignored.\n",
      "  self._warn_if_super_not_called()\n"
     ]
    },
    {
     "name": "stdout",
     "output_type": "stream",
     "text": [
      "\u001b[1m111/111\u001b[0m \u001b[32m━━━━━━━━━━━━━━━━━━━━\u001b[0m\u001b[37m\u001b[0m \u001b[1m36s\u001b[0m 296ms/step - accuracy: 0.5964 - loss: 0.9046 - precision: 0.8112 - val_accuracy: 0.7159 - val_loss: 0.6980 - val_precision: 0.7835\n",
      "Epoch 2/15\n",
      "\u001b[1m111/111\u001b[0m \u001b[32m━━━━━━━━━━━━━━━━━━━━\u001b[0m\u001b[37m\u001b[0m \u001b[1m33s\u001b[0m 288ms/step - accuracy: 0.7249 - loss: 0.6916 - precision: 0.7663 - val_accuracy: 0.7582 - val_loss: 0.6215 - val_precision: 0.7908\n",
      "Epoch 3/15\n",
      "\u001b[1m111/111\u001b[0m \u001b[32m━━━━━━━━━━━━━━━━━━━━\u001b[0m\u001b[37m\u001b[0m \u001b[1m33s\u001b[0m 287ms/step - accuracy: 0.7606 - loss: 0.6130 - precision: 0.7878 - val_accuracy: 0.7649 - val_loss: 0.5994 - val_precision: 0.7776\n",
      "Epoch 4/15\n",
      "\u001b[1m111/111\u001b[0m \u001b[32m━━━━━━━━━━━━━━━━━━━━\u001b[0m\u001b[37m\u001b[0m \u001b[1m33s\u001b[0m 287ms/step - accuracy: 0.7442 - loss: 0.6290 - precision: 0.7666 - val_accuracy: 0.7813 - val_loss: 0.5581 - val_precision: 0.7955\n",
      "Epoch 5/15\n",
      "\u001b[1m111/111\u001b[0m \u001b[32m━━━━━━━━━━━━━━━━━━━━\u001b[0m\u001b[37m\u001b[0m \u001b[1m33s\u001b[0m 286ms/step - accuracy: 0.7838 - loss: 0.5769 - precision: 0.8034 - val_accuracy: 0.8129 - val_loss: 0.5143 - val_precision: 0.8298\n",
      "Epoch 6/15\n",
      "\u001b[1m111/111\u001b[0m \u001b[32m━━━━━━━━━━━━━━━━━━━━\u001b[0m\u001b[37m\u001b[0m \u001b[1m33s\u001b[0m 288ms/step - accuracy: 0.8069 - loss: 0.5132 - precision: 0.8232 - val_accuracy: 0.8140 - val_loss: 0.4926 - val_precision: 0.8282\n",
      "Epoch 7/15\n",
      "\u001b[1m111/111\u001b[0m \u001b[32m━━━━━━━━━━━━━━━━━━━━\u001b[0m\u001b[37m\u001b[0m \u001b[1m33s\u001b[0m 286ms/step - accuracy: 0.8129 - loss: 0.4957 - precision: 0.8256 - val_accuracy: 0.8140 - val_loss: 0.4863 - val_precision: 0.8262\n",
      "Epoch 8/15\n",
      "\u001b[1m111/111\u001b[0m \u001b[32m━━━━━━━━━━━━━━━━━━━━\u001b[0m\u001b[37m\u001b[0m \u001b[1m33s\u001b[0m 285ms/step - accuracy: 0.8170 - loss: 0.4873 - precision: 0.8307 - val_accuracy: 0.8286 - val_loss: 0.4568 - val_precision: 0.8409\n",
      "Epoch 9/15\n",
      "\u001b[1m111/111\u001b[0m \u001b[32m━━━━━━━━━━━━━━━━━━━━\u001b[0m\u001b[37m\u001b[0m \u001b[1m33s\u001b[0m 286ms/step - accuracy: 0.8273 - loss: 0.4698 - precision: 0.8402 - val_accuracy: 0.8247 - val_loss: 0.4709 - val_precision: 0.8341\n",
      "Epoch 10/15\n",
      "\u001b[1m111/111\u001b[0m \u001b[32m━━━━━━━━━━━━━━━━━━━━\u001b[0m\u001b[37m\u001b[0m \u001b[1m34s\u001b[0m 290ms/step - accuracy: 0.8283 - loss: 0.4519 - precision: 0.8480 - val_accuracy: 0.8241 - val_loss: 0.4534 - val_precision: 0.8334\n",
      "Epoch 11/15\n",
      "\u001b[1m111/111\u001b[0m \u001b[32m━━━━━━━━━━━━━━━━━━━━\u001b[0m\u001b[37m\u001b[0m \u001b[1m33s\u001b[0m 290ms/step - accuracy: 0.8098 - loss: 0.4854 - precision: 0.8253 - val_accuracy: 0.8410 - val_loss: 0.4227 - val_precision: 0.8559\n",
      "Epoch 12/15\n",
      "\u001b[1m111/111\u001b[0m \u001b[32m━━━━━━━━━━━━━━━━━━━━\u001b[0m\u001b[37m\u001b[0m \u001b[1m33s\u001b[0m 282ms/step - accuracy: 0.8452 - loss: 0.4157 - precision: 0.8589 - val_accuracy: 0.8269 - val_loss: 0.4306 - val_precision: 0.8431\n",
      "Epoch 13/15\n",
      "\u001b[1m111/111\u001b[0m \u001b[32m━━━━━━━━━━━━━━━━━━━━\u001b[0m\u001b[37m\u001b[0m \u001b[1m33s\u001b[0m 284ms/step - accuracy: 0.8331 - loss: 0.4388 - precision: 0.8471 - val_accuracy: 0.8326 - val_loss: 0.4433 - val_precision: 0.8449\n",
      "Epoch 14/15\n",
      "\u001b[1m111/111\u001b[0m \u001b[32m━━━━━━━━━━━━━━━━━━━━\u001b[0m\u001b[37m\u001b[0m \u001b[1m33s\u001b[0m 283ms/step - accuracy: 0.8430 - loss: 0.4285 - precision: 0.8586 - val_accuracy: 0.8326 - val_loss: 0.4316 - val_precision: 0.8506\n",
      "Epoch 15/15\n",
      "\u001b[1m111/111\u001b[0m \u001b[32m━━━━━━━━━━━━━━━━━━━━\u001b[0m\u001b[37m\u001b[0m \u001b[1m33s\u001b[0m 283ms/step - accuracy: 0.8364 - loss: 0.4069 - precision: 0.8515 - val_accuracy: 0.8315 - val_loss: 0.4233 - val_precision: 0.8443\n",
      "\u001b[1m56/56\u001b[0m \u001b[32m━━━━━━━━━━━━━━━━━━━━\u001b[0m\u001b[37m\u001b[0m \u001b[1m11s\u001b[0m 197ms/step - accuracy: 0.9290 - loss: 0.2246 - precision: 0.9410\n"
     ]
    }
   ],
   "source": [
    "import numpy as np\n",
    "from sklearn.model_selection import StratifiedKFold\n",
    "from tensorflow.keras.models import Sequential\n",
    "from tensorflow.keras.layers import Conv2D, MaxPooling2D, Flatten, Dense, Dropout\n",
    "from tensorflow.keras.metrics import Precision, Recall\n",
    "\n",
    "# Variables\n",
    "NUM_FOLDS = 3\n",
    "INPUT_SHAPE = (32, 32, 3)\n",
    "BATCH_SIZE = 32\n",
    "EPOCHS = 15\n",
    "FILTER1_SIZE = 32\n",
    "FILTER2_SIZE = 64\n",
    "FILTER_SHAPE = (3, 3)\n",
    "POOL_SHAPE = (2, 2)\n",
    "FULLY_CONNECTED_LAYER_SIZE = 128\n",
    "NUM_CLASSES = 3\n",
    "METRICS = [\n",
    "    'accuracy',\n",
    "    Precision(name='precision'),\n",
    "]\n",
    "\n",
    "\n",
    "# Initialiser les k-folds\n",
    "skf = StratifiedKFold(n_splits=NUM_FOLDS, shuffle=True, random_state=42)\n",
    "\n",
    "# Stocker les scores\n",
    "accuracy_scores = []\n",
    "loss_scores = []\n",
    "precicion_scores = []\n",
    "\n",
    "for fold, (train_idx, vald_idx) in enumerate(skf.split(set['images'], set['classes'])):\n",
    "    print(f\"\\n=== Fold {fold + 1} / {NUM_FOLDS} ===\")\n",
    "    \n",
    "    # Separons en train/val\n",
    "    train_df = set.iloc[train_idx]\n",
    "    val_df = set.iloc[vald_idx]\n",
    "    \n",
    "    # Generateurs de donnees\n",
    "    train_set = datagen.flow_from_dataframe(\n",
    "    train_df,\n",
    "    x_col='images',\n",
    "    y_col='classes',\n",
    "    target_size=(32, 32),\n",
    "    batch_size=32,\n",
    "    class_mode='categorical',\n",
    "    #subset='training'\n",
    "    )\n",
    "    val_set = datagen.flow_from_dataframe(\n",
    "    val_df,\n",
    "    x_col='images',\n",
    "    y_col='classes',\n",
    "    target_size=(32, 32),\n",
    "    batch_size=32,\n",
    "    class_mode='categorical',\n",
    "    #subset='validation',\n",
    "    shuffle=False\n",
    "    )\n",
    "    \n",
    "    # Definir le modele, architecture implementation\n",
    "    model = Sequential()\n",
    "    model.add(Conv2D(16, FILTER_SHAPE, activation='relu', input_shape = INPUT_SHAPE))\n",
    "    model.add(MaxPooling2D(POOL_SHAPE))\n",
    "    model.add(Conv2D(FILTER1_SIZE, FILTER_SHAPE, activation='relu', input_shape = INPUT_SHAPE))\n",
    "    model.add(MaxPooling2D(POOL_SHAPE))\n",
    "    model.add(Conv2D(FILTER2_SIZE, FILTER_SHAPE, activation='relu'))\n",
    "    model.add(MaxPooling2D(POOL_SHAPE))\n",
    "    model.add(Flatten())\n",
    "    model.add(Dense(FULLY_CONNECTED_LAYER_SIZE, activation='relu'))\n",
    "    model.add(Dropout(0.2))\n",
    "    model.add(Dense(NUM_CLASSES, activation='softmax'))\n",
    "    \n",
    "    model.compile(optimizer='adam',\n",
    "                  loss='categorical_crossentropy',\n",
    "                  metrics = METRICS\n",
    "                  )\n",
    "    \n",
    "    # Entrainement du modele\n",
    "    training_history = model.fit(train_set,\n",
    "                             epochs=EPOCHS,\n",
    "                             batch_size=BATCH_SIZE,\n",
    "                             validation_data=val_set\n",
    "                             )\n",
    "\n",
    "\n",
    "    # Évaluation\n",
    "    loss, accuracy, Precision = model.evaluate(val_set)\n",
    "    accuracy_scores.append(accuracy)\n",
    "    loss_scores.append(loss)\n",
    "    precicion_scores.append(Precision)"
   ]
  },
  {
   "cell_type": "code",
   "execution_count": 13,
   "metadata": {},
   "outputs": [
    {
     "name": "stdout",
     "output_type": "stream",
     "text": [
      "\n",
      "=== Résultats de la Cross-Validation ===\n",
      "Accuracy moyen : 0.83 ± 0.01\n",
      "Loss moyen : 0.44 ± 0.01\n",
      "Precision moyen : 0.85 ± 0.01\n"
     ]
    }
   ],
   "source": [
    "# Résultats finaux\n",
    "print(f\"\\n=== Résultats de la Cross-Validation ===\")\n",
    "print(f\"Accuracy moyen : {np.mean(accuracy_scores):.2f} ± {np.std(accuracy_scores):.2f}\")\n",
    "print(f\"Loss moyen : {np.mean(loss_scores):.2f} ± {np.std(loss_scores):.2f}\")\n",
    "print(f\"Precision moyen : {np.mean(precicion_scores):.2f} ± {np.std(precicion_scores):.2f}\")"
   ]
  },
  {
   "cell_type": "code",
   "execution_count": 14,
   "metadata": {},
   "outputs": [
    {
     "data": {
      "image/png": "[encoded data removed]",
      "text/plain": [
       "<Figure size 640x480 with 1 Axes>"
      ]
     },
     "metadata": {},
     "output_type": "display_data"
    },
    {
     "data": {
      "image/png": "[encoded data removed]",
      "text/plain": [
       "<Figure size 640x480 with 1 Axes>"
      ]
     },
     "metadata": {},
     "output_type": "display_data"
    }
   ],
   "source": [
    "acc = training_history.history['accuracy']\n",
    "val_acc = training_history.history['val_accuracy']\n",
    "epochs = range(len(acc))\n",
    "\n",
    "plt.plot(epochs, acc, 'b', label='Training Accuracy')\n",
    "plt.plot(epochs, val_acc, 'r', label='Validation Accuracy')\n",
    "plt.title('Accuracy Graph')\n",
    "plt.legend()\n",
    "plt.figure()\n",
    "\n",
    "loss = training_history.history['loss']\n",
    "val_loss = training_history.history['val_loss']\n",
    "plt.plot(epochs, loss, 'b', label='Training Loss')\n",
    "plt.plot(epochs, val_loss, 'r', label='Validation Loss')\n",
    "plt.title('Loss Graph')\n",
    "plt.legend()\n",
    "plt.show()"
   ]
  },
  {
   "cell_type": "code",
   "execution_count": 15,
   "metadata": {},
   "outputs": [
    {
     "name": "stdout",
     "output_type": "stream",
     "text": [
      "\u001b[1m1/1\u001b[0m \u001b[32m━━━━━━━━━━━━━━━━━━━━\u001b[0m\u001b[37m\u001b[0m \u001b[1m0s\u001b[0m 130ms/step\n"
     ]
    },
    {
     "data": {
      "image/png": "[encoded data removed]",
      "text/plain": [
       "<Figure size 640x480 with 2 Axes>"
      ]
     },
     "metadata": {},
     "output_type": "display_data"
    }
   ],
   "source": [
    "from sklearn.metrics import confusion_matrix, ConfusionMatrixDisplay\n",
    "\n",
    "classnames = list(train_set.class_indices.keys())\n",
    "\n",
    "x_test = test_set['images']\n",
    "y_test = test_set['classes']\n",
    "\n",
    "x_test = val_set[0][0]\n",
    "y_test = val_set[0][1]\n",
    "class_probabilities = model.predict(x_test)\n",
    "\n",
    "predictions = np.argmax(class_probabilities, axis=1)\n",
    "\n",
    "true_labels = np.argmax(y_test, axis=1)\n",
    "\n",
    "# Plot the confusion matrix\n",
    "cm = confusion_matrix(true_labels, predictions)\n",
    "plt.imshow(cm, interpolation=\"nearest\", cmap=plt.cm.Blues)\n",
    "plt.colorbar()\n",
    "tick_marks = np.arange(len(classnames))\n",
    "plt.xticks(tick_marks, classnames, rotation=85)\n",
    "plt.yticks(tick_marks, classnames)\n",
    "plt.xlabel(\"Predicted Maturity\")\n",
    "plt.ylabel(\"Actual Maturity\")\n",
    "plt.show()"
   ]
  },
  {
   "cell_type": "code",
   "execution_count": 16,
   "metadata": {},
   "outputs": [
    {
     "name": "stderr",
     "output_type": "stream",
     "text": [
      "WARNING:absl:You are saving your model as an HDF5 file via `model.save()` or `keras.saving.save_model(model)`. This file format is considered legacy. We recommend using instead the native Keras format, e.g. `model.save('my_model.keras')` or `keras.saving.save_model(model, 'my_model.keras')`. \n"
     ]
    },
    {
     "name": "stdout",
     "output_type": "stream",
     "text": [
      "model saved as Téléchargements/maturity_papaya_detection/models/shape_classifier.h5\n"
     ]
    }
   ],
   "source": [
    "# Save the trained model\n",
    "modelFileName = 'Téléchargements/maturity_papaya_detection/models/shape_classifier.h5'\n",
    "model.save(modelFileName)\n",
    "del model  # deletes the existing model variable\n",
    "print('model saved as', modelFileName)"
   ]
  },
  {
   "cell_type": "code",
   "execution_count": 20,
   "metadata": {},
   "outputs": [
    {
     "name": "stderr",
     "output_type": "stream",
     "text": [
      "WARNING:absl:Compiled the loaded model, but the compiled metrics have yet to be built. `model.compile_metrics` will be empty until you train or evaluate the model.\n"
     ]
    },
    {
     "name": "stdout",
     "output_type": "stream",
     "text": [
      "\u001b[1m1/1\u001b[0m \u001b[32m━━━━━━━━━━━━━━━━━━━━\u001b[0m\u001b[37m\u001b[0m \u001b[1m0s\u001b[0m 107ms/step\n",
      " setengah_matang: 75.53%\n",
      " matang: 22.41%\n",
      " belum_matang: 2.06%\n"
     ]
    }
   ],
   "source": [
    "from tensorflow.keras.models import load_model\n",
    "from tensorflow.keras.preprocessing import image\n",
    "\n",
    "def prediction_maturity_papaya(image_path, model_path):\n",
    "    \n",
    "    # Chargeons le modele sauvegarde\n",
    "    model = load_model(model_path)\n",
    "    \n",
    "    # Charger et pretraitons l'image\n",
    "    img = image.load_img(image_path, target_size=(32, 32))\n",
    "    img_array = image.img_to_array(img)\n",
    "    img_array = np.expand_dims(img_array, axis=0)\n",
    "    img_array /= 255.0 # normaliser l'image\n",
    "    \n",
    "    # Predire la classe\n",
    "    prediction = model.predict(img_array).flatten() # transformation en tableau 1D\n",
    "    \n",
    "    # Creation d'un dictionnaire pour les resultats\n",
    "    results = {\n",
    "        classnames[i]: float(prediction[i])\n",
    "        for i in range(len(classnames))\n",
    "    }\n",
    "    \n",
    "    # Tri par probabilites decroissantes\n",
    "    resultats_tries = sorted(results.items(), key=lambda x: x[1], reverse=True)\n",
    "    return resultats_tries\n",
    "\n",
    "\n",
    "\n",
    "resultat = prediction_maturity_papaya('C:/Users/pc/Downloads/maturity_papaya_detection/IMG_20250204_213335.jpg' ,'C:/Users/pc/Downloads/Téléchargements/maturity_papaya_detection/models/shape_classifier.h5')\n",
    "for class_name, proba in resultat:\n",
    "    print(f\"{class_name}: {proba:.2%}\")"
   ]
  },
  {
   "cell_type": "code",
   "execution_count": 18,
   "metadata": {},
   "outputs": [
    {
     "data": {
      "text/plain": [
       "[' belum_matang', ' matang', ' setengah_matang']"
      ]
     },
     "execution_count": 18,
     "metadata": {},
     "output_type": "execute_result"
    }
   ],
   "source": [
    "classnames"
   ]
  }
 ],
 "metadata": {
  "kernelspec": {
   "display_name": "Python 3",
   "language": "python",
   "name": "python3"
  },
  "language_info": {
   "codemirror_mode": {
    "name": "ipython",
    "version": 3
   },
   "file_extension": ".py",
   "mimetype": "text/x-python",
   "name": "python",
   "nbconvert_exporter": "python",
   "pygments_lexer": "ipython3",
   "version": "3.12.0"
  }
 },
 "nbformat": 4,
 "nbformat_minor": 2
}
